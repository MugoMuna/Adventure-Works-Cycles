{
 "cells": [
  {
   "cell_type": "code",
   "execution_count": 2,
   "metadata": {},
   "outputs": [],
   "source": [
    "import pandas as pd\n",
    "import numpy as np\n",
    "import matplotlib.pyplot as plt\n",
    "import seaborn as sns"
   ]
  },
  {
   "cell_type": "markdown",
   "metadata": {},
   "source": [
    "Import data"
   ]
  },
  {
   "cell_type": "code",
   "execution_count": 3,
   "metadata": {},
   "outputs": [],
   "source": [
    "df = pd.read_csv('adventure_works_purchase_orders.csv')"
   ]
  },
  {
   "cell_type": "code",
   "execution_count": 4,
   "metadata": {},
   "outputs": [
    {
     "data": {
      "text/html": [
       "<div>\n",
       "<style scoped>\n",
       "    .dataframe tbody tr th:only-of-type {\n",
       "        vertical-align: middle;\n",
       "    }\n",
       "\n",
       "    .dataframe tbody tr th {\n",
       "        vertical-align: top;\n",
       "    }\n",
       "\n",
       "    .dataframe thead th {\n",
       "        text-align: right;\n",
       "    }\n",
       "</style>\n",
       "<table border=\"1\" class=\"dataframe\">\n",
       "  <thead>\n",
       "    <tr style=\"text-align: right;\">\n",
       "      <th></th>\n",
       "      <th>SalesOrderNumber</th>\n",
       "      <th>OrderDate</th>\n",
       "      <th>DueDate</th>\n",
       "      <th>ShipDate</th>\n",
       "      <th>Sales_Person</th>\n",
       "      <th>Sales_Region</th>\n",
       "      <th>Sales_Province</th>\n",
       "      <th>Sales_City</th>\n",
       "      <th>Sales_Postal_Code</th>\n",
       "      <th>Customer_Code</th>\n",
       "      <th>...</th>\n",
       "      <th>LineItem_Id</th>\n",
       "      <th>Product_Category</th>\n",
       "      <th>Product_Sub_Category</th>\n",
       "      <th>Product_Name</th>\n",
       "      <th>Product_Code</th>\n",
       "      <th>Unit_Cost</th>\n",
       "      <th>UnitPrice</th>\n",
       "      <th>UnitPriceDiscount</th>\n",
       "      <th>OrderQty</th>\n",
       "      <th>Unit_Freight_Cost</th>\n",
       "    </tr>\n",
       "  </thead>\n",
       "  <tbody>\n",
       "    <tr>\n",
       "      <th>0</th>\n",
       "      <td>SO43659</td>\n",
       "      <td>7/1/05</td>\n",
       "      <td>00:00.0</td>\n",
       "      <td>00:00.0</td>\n",
       "      <td>Tsvi Reiter</td>\n",
       "      <td>United States</td>\n",
       "      <td>Tennessee</td>\n",
       "      <td>Memphis</td>\n",
       "      <td>38103</td>\n",
       "      <td>AW00029825</td>\n",
       "      <td>...</td>\n",
       "      <td>1</td>\n",
       "      <td>Bikes</td>\n",
       "      <td>Mountain Bikes</td>\n",
       "      <td>Mountain-100 Black, 42</td>\n",
       "      <td>BK-M82B-42</td>\n",
       "      <td>1898.0944</td>\n",
       "      <td>3374.99</td>\n",
       "      <td>0.0</td>\n",
       "      <td>1</td>\n",
       "      <td>51.3415</td>\n",
       "    </tr>\n",
       "    <tr>\n",
       "      <th>1</th>\n",
       "      <td>SO43659</td>\n",
       "      <td>7/1/05</td>\n",
       "      <td>00:00.0</td>\n",
       "      <td>00:00.0</td>\n",
       "      <td>Tsvi Reiter</td>\n",
       "      <td>United States</td>\n",
       "      <td>Tennessee</td>\n",
       "      <td>Memphis</td>\n",
       "      <td>38103</td>\n",
       "      <td>AW00029825</td>\n",
       "      <td>...</td>\n",
       "      <td>2</td>\n",
       "      <td>Bikes</td>\n",
       "      <td>Mountain Bikes</td>\n",
       "      <td>Mountain-100 Black, 44</td>\n",
       "      <td>BK-M82B-44</td>\n",
       "      <td>1898.0944</td>\n",
       "      <td>3374.99</td>\n",
       "      <td>0.0</td>\n",
       "      <td>3</td>\n",
       "      <td>51.3415</td>\n",
       "    </tr>\n",
       "    <tr>\n",
       "      <th>2</th>\n",
       "      <td>SO43659</td>\n",
       "      <td>7/1/05</td>\n",
       "      <td>00:00.0</td>\n",
       "      <td>00:00.0</td>\n",
       "      <td>Tsvi Reiter</td>\n",
       "      <td>United States</td>\n",
       "      <td>Tennessee</td>\n",
       "      <td>Memphis</td>\n",
       "      <td>38103</td>\n",
       "      <td>AW00029825</td>\n",
       "      <td>...</td>\n",
       "      <td>3</td>\n",
       "      <td>Bikes</td>\n",
       "      <td>Mountain Bikes</td>\n",
       "      <td>Mountain-100 Black, 48</td>\n",
       "      <td>BK-M82B-48</td>\n",
       "      <td>1898.0944</td>\n",
       "      <td>3374.99</td>\n",
       "      <td>0.0</td>\n",
       "      <td>1</td>\n",
       "      <td>51.3415</td>\n",
       "    </tr>\n",
       "    <tr>\n",
       "      <th>3</th>\n",
       "      <td>SO43659</td>\n",
       "      <td>7/1/05</td>\n",
       "      <td>00:00.0</td>\n",
       "      <td>00:00.0</td>\n",
       "      <td>Tsvi Reiter</td>\n",
       "      <td>United States</td>\n",
       "      <td>Tennessee</td>\n",
       "      <td>Memphis</td>\n",
       "      <td>38103</td>\n",
       "      <td>AW00029825</td>\n",
       "      <td>...</td>\n",
       "      <td>4</td>\n",
       "      <td>Bikes</td>\n",
       "      <td>Mountain Bikes</td>\n",
       "      <td>Mountain-100 Silver, 38</td>\n",
       "      <td>BK-M82S-38</td>\n",
       "      <td>1912.1544</td>\n",
       "      <td>3399.99</td>\n",
       "      <td>0.0</td>\n",
       "      <td>1</td>\n",
       "      <td>51.3415</td>\n",
       "    </tr>\n",
       "    <tr>\n",
       "      <th>4</th>\n",
       "      <td>SO43659</td>\n",
       "      <td>7/1/05</td>\n",
       "      <td>00:00.0</td>\n",
       "      <td>00:00.0</td>\n",
       "      <td>Tsvi Reiter</td>\n",
       "      <td>United States</td>\n",
       "      <td>Tennessee</td>\n",
       "      <td>Memphis</td>\n",
       "      <td>38103</td>\n",
       "      <td>AW00029825</td>\n",
       "      <td>...</td>\n",
       "      <td>5</td>\n",
       "      <td>Bikes</td>\n",
       "      <td>Mountain Bikes</td>\n",
       "      <td>Mountain-100 Silver, 42</td>\n",
       "      <td>BK-M82S-42</td>\n",
       "      <td>1912.1544</td>\n",
       "      <td>3399.99</td>\n",
       "      <td>0.0</td>\n",
       "      <td>1</td>\n",
       "      <td>51.3415</td>\n",
       "    </tr>\n",
       "  </tbody>\n",
       "</table>\n",
       "<p>5 rows × 25 columns</p>\n",
       "</div>"
      ],
      "text/plain": [
       "  SalesOrderNumber OrderDate  DueDate ShipDate Sales_Person   Sales_Region  \\\n",
       "0          SO43659    7/1/05  00:00.0  00:00.0  Tsvi Reiter  United States   \n",
       "1          SO43659    7/1/05  00:00.0  00:00.0  Tsvi Reiter  United States   \n",
       "2          SO43659    7/1/05  00:00.0  00:00.0  Tsvi Reiter  United States   \n",
       "3          SO43659    7/1/05  00:00.0  00:00.0  Tsvi Reiter  United States   \n",
       "4          SO43659    7/1/05  00:00.0  00:00.0  Tsvi Reiter  United States   \n",
       "\n",
       "  Sales_Province Sales_City  Sales_Postal_Code Customer_Code  ... LineItem_Id  \\\n",
       "0      Tennessee    Memphis              38103    AW00029825  ...           1   \n",
       "1      Tennessee    Memphis              38103    AW00029825  ...           2   \n",
       "2      Tennessee    Memphis              38103    AW00029825  ...           3   \n",
       "3      Tennessee    Memphis              38103    AW00029825  ...           4   \n",
       "4      Tennessee    Memphis              38103    AW00029825  ...           5   \n",
       "\n",
       "  Product_Category Product_Sub_Category             Product_Name Product_Code  \\\n",
       "0            Bikes       Mountain Bikes   Mountain-100 Black, 42   BK-M82B-42   \n",
       "1            Bikes       Mountain Bikes   Mountain-100 Black, 44   BK-M82B-44   \n",
       "2            Bikes       Mountain Bikes   Mountain-100 Black, 48   BK-M82B-48   \n",
       "3            Bikes       Mountain Bikes  Mountain-100 Silver, 38   BK-M82S-38   \n",
       "4            Bikes       Mountain Bikes  Mountain-100 Silver, 42   BK-M82S-42   \n",
       "\n",
       "   Unit_Cost UnitPrice UnitPriceDiscount OrderQty Unit_Freight_Cost  \n",
       "0  1898.0944   3374.99               0.0        1           51.3415  \n",
       "1  1898.0944   3374.99               0.0        3           51.3415  \n",
       "2  1898.0944   3374.99               0.0        1           51.3415  \n",
       "3  1912.1544   3399.99               0.0        1           51.3415  \n",
       "4  1912.1544   3399.99               0.0        1           51.3415  \n",
       "\n",
       "[5 rows x 25 columns]"
      ]
     },
     "execution_count": 4,
     "metadata": {},
     "output_type": "execute_result"
    }
   ],
   "source": [
    "df.head()"
   ]
  },
  {
   "cell_type": "markdown",
   "metadata": {},
   "source": [
    "# Create new calculated columns and change the data type of some columns"
   ]
  },
  {
   "cell_type": "code",
   "execution_count": 5,
   "metadata": {},
   "outputs": [],
   "source": [
    "df['Cost'] = (df['Unit_Freight_Cost'] * df['OrderQty']) + (df['OrderQty']*df['Unit_Cost'])"
   ]
  },
  {
   "cell_type": "code",
   "execution_count": 6,
   "metadata": {},
   "outputs": [],
   "source": [
    "df['shipping'] = df['Unit_Freight_Cost'] * df['OrderQty']"
   ]
  },
  {
   "cell_type": "code",
   "execution_count": 7,
   "metadata": {},
   "outputs": [],
   "source": [
    "def calculate_revenue(row):\n",
    "    if (row['UnitPriceDiscount']== 0):\n",
    "        return row['UnitPrice'] * row['OrderQty']\n",
    "    else:\n",
    "        return (row['UnitPrice'] * (1 - row['UnitPriceDiscount']))*row['OrderQty']"
   ]
  },
  {
   "cell_type": "code",
   "execution_count": 8,
   "metadata": {},
   "outputs": [],
   "source": [
    "df['Revenue'] = df.apply(lambda row: calculate_revenue(row), axis =1 )"
   ]
  },
  {
   "cell_type": "code",
   "execution_count": 9,
   "metadata": {},
   "outputs": [],
   "source": [
    "df['OrderDate'] = pd.to_datetime(df.OrderDate)"
   ]
  },
  {
   "cell_type": "code",
   "execution_count": 10,
   "metadata": {},
   "outputs": [],
   "source": [
    "df['Profit'] = df['Revenue'] - df['Cost']"
   ]
  },
  {
   "cell_type": "code",
   "execution_count": 11,
   "metadata": {},
   "outputs": [],
   "source": [
    "df['profit_per_item'] = df['Profit']/df['OrderQty']"
   ]
  },
  {
   "cell_type": "code",
   "execution_count": 12,
   "metadata": {},
   "outputs": [],
   "source": [
    "df['month_year'] = df['OrderDate'].dt.to_period('M')"
   ]
  },
  {
   "cell_type": "code",
   "execution_count": 13,
   "metadata": {},
   "outputs": [],
   "source": [
    "df['year'] = df['OrderDate'].dt.to_period('Y')"
   ]
  },
  {
   "cell_type": "code",
   "execution_count": 14,
   "metadata": {},
   "outputs": [],
   "source": [
    "df['quarter'] = df['OrderDate'].dt.to_period('Q')"
   ]
  },
  {
   "cell_type": "code",
   "execution_count": 15,
   "metadata": {},
   "outputs": [
    {
     "data": {
      "text/html": [
       "<div>\n",
       "<style scoped>\n",
       "    .dataframe tbody tr th:only-of-type {\n",
       "        vertical-align: middle;\n",
       "    }\n",
       "\n",
       "    .dataframe tbody tr th {\n",
       "        vertical-align: top;\n",
       "    }\n",
       "\n",
       "    .dataframe thead th {\n",
       "        text-align: right;\n",
       "    }\n",
       "</style>\n",
       "<table border=\"1\" class=\"dataframe\">\n",
       "  <thead>\n",
       "    <tr style=\"text-align: right;\">\n",
       "      <th></th>\n",
       "      <th>SalesOrderNumber</th>\n",
       "      <th>OrderDate</th>\n",
       "      <th>DueDate</th>\n",
       "      <th>ShipDate</th>\n",
       "      <th>Sales_Person</th>\n",
       "      <th>Sales_Region</th>\n",
       "      <th>Sales_Province</th>\n",
       "      <th>Sales_City</th>\n",
       "      <th>Sales_Postal_Code</th>\n",
       "      <th>Customer_Code</th>\n",
       "      <th>...</th>\n",
       "      <th>OrderQty</th>\n",
       "      <th>Unit_Freight_Cost</th>\n",
       "      <th>Cost</th>\n",
       "      <th>shipping</th>\n",
       "      <th>Revenue</th>\n",
       "      <th>Profit</th>\n",
       "      <th>profit_per_item</th>\n",
       "      <th>month_year</th>\n",
       "      <th>year</th>\n",
       "      <th>quarter</th>\n",
       "    </tr>\n",
       "  </thead>\n",
       "  <tbody>\n",
       "    <tr>\n",
       "      <th>0</th>\n",
       "      <td>SO43659</td>\n",
       "      <td>2005-07-01</td>\n",
       "      <td>00:00.0</td>\n",
       "      <td>00:00.0</td>\n",
       "      <td>Tsvi Reiter</td>\n",
       "      <td>United States</td>\n",
       "      <td>Tennessee</td>\n",
       "      <td>Memphis</td>\n",
       "      <td>38103</td>\n",
       "      <td>AW00029825</td>\n",
       "      <td>...</td>\n",
       "      <td>1</td>\n",
       "      <td>51.3415</td>\n",
       "      <td>1949.4359</td>\n",
       "      <td>51.3415</td>\n",
       "      <td>3374.99</td>\n",
       "      <td>1425.5541</td>\n",
       "      <td>1425.5541</td>\n",
       "      <td>2005-07</td>\n",
       "      <td>2005</td>\n",
       "      <td>2005Q3</td>\n",
       "    </tr>\n",
       "    <tr>\n",
       "      <th>1</th>\n",
       "      <td>SO43659</td>\n",
       "      <td>2005-07-01</td>\n",
       "      <td>00:00.0</td>\n",
       "      <td>00:00.0</td>\n",
       "      <td>Tsvi Reiter</td>\n",
       "      <td>United States</td>\n",
       "      <td>Tennessee</td>\n",
       "      <td>Memphis</td>\n",
       "      <td>38103</td>\n",
       "      <td>AW00029825</td>\n",
       "      <td>...</td>\n",
       "      <td>3</td>\n",
       "      <td>51.3415</td>\n",
       "      <td>5848.3077</td>\n",
       "      <td>154.0245</td>\n",
       "      <td>10124.97</td>\n",
       "      <td>4276.6623</td>\n",
       "      <td>1425.5541</td>\n",
       "      <td>2005-07</td>\n",
       "      <td>2005</td>\n",
       "      <td>2005Q3</td>\n",
       "    </tr>\n",
       "    <tr>\n",
       "      <th>2</th>\n",
       "      <td>SO43659</td>\n",
       "      <td>2005-07-01</td>\n",
       "      <td>00:00.0</td>\n",
       "      <td>00:00.0</td>\n",
       "      <td>Tsvi Reiter</td>\n",
       "      <td>United States</td>\n",
       "      <td>Tennessee</td>\n",
       "      <td>Memphis</td>\n",
       "      <td>38103</td>\n",
       "      <td>AW00029825</td>\n",
       "      <td>...</td>\n",
       "      <td>1</td>\n",
       "      <td>51.3415</td>\n",
       "      <td>1949.4359</td>\n",
       "      <td>51.3415</td>\n",
       "      <td>3374.99</td>\n",
       "      <td>1425.5541</td>\n",
       "      <td>1425.5541</td>\n",
       "      <td>2005-07</td>\n",
       "      <td>2005</td>\n",
       "      <td>2005Q3</td>\n",
       "    </tr>\n",
       "    <tr>\n",
       "      <th>3</th>\n",
       "      <td>SO43659</td>\n",
       "      <td>2005-07-01</td>\n",
       "      <td>00:00.0</td>\n",
       "      <td>00:00.0</td>\n",
       "      <td>Tsvi Reiter</td>\n",
       "      <td>United States</td>\n",
       "      <td>Tennessee</td>\n",
       "      <td>Memphis</td>\n",
       "      <td>38103</td>\n",
       "      <td>AW00029825</td>\n",
       "      <td>...</td>\n",
       "      <td>1</td>\n",
       "      <td>51.3415</td>\n",
       "      <td>1963.4959</td>\n",
       "      <td>51.3415</td>\n",
       "      <td>3399.99</td>\n",
       "      <td>1436.4941</td>\n",
       "      <td>1436.4941</td>\n",
       "      <td>2005-07</td>\n",
       "      <td>2005</td>\n",
       "      <td>2005Q3</td>\n",
       "    </tr>\n",
       "    <tr>\n",
       "      <th>4</th>\n",
       "      <td>SO43659</td>\n",
       "      <td>2005-07-01</td>\n",
       "      <td>00:00.0</td>\n",
       "      <td>00:00.0</td>\n",
       "      <td>Tsvi Reiter</td>\n",
       "      <td>United States</td>\n",
       "      <td>Tennessee</td>\n",
       "      <td>Memphis</td>\n",
       "      <td>38103</td>\n",
       "      <td>AW00029825</td>\n",
       "      <td>...</td>\n",
       "      <td>1</td>\n",
       "      <td>51.3415</td>\n",
       "      <td>1963.4959</td>\n",
       "      <td>51.3415</td>\n",
       "      <td>3399.99</td>\n",
       "      <td>1436.4941</td>\n",
       "      <td>1436.4941</td>\n",
       "      <td>2005-07</td>\n",
       "      <td>2005</td>\n",
       "      <td>2005Q3</td>\n",
       "    </tr>\n",
       "  </tbody>\n",
       "</table>\n",
       "<p>5 rows × 33 columns</p>\n",
       "</div>"
      ],
      "text/plain": [
       "  SalesOrderNumber  OrderDate  DueDate ShipDate Sales_Person   Sales_Region  \\\n",
       "0          SO43659 2005-07-01  00:00.0  00:00.0  Tsvi Reiter  United States   \n",
       "1          SO43659 2005-07-01  00:00.0  00:00.0  Tsvi Reiter  United States   \n",
       "2          SO43659 2005-07-01  00:00.0  00:00.0  Tsvi Reiter  United States   \n",
       "3          SO43659 2005-07-01  00:00.0  00:00.0  Tsvi Reiter  United States   \n",
       "4          SO43659 2005-07-01  00:00.0  00:00.0  Tsvi Reiter  United States   \n",
       "\n",
       "  Sales_Province Sales_City  Sales_Postal_Code Customer_Code  ... OrderQty  \\\n",
       "0      Tennessee    Memphis              38103    AW00029825  ...        1   \n",
       "1      Tennessee    Memphis              38103    AW00029825  ...        3   \n",
       "2      Tennessee    Memphis              38103    AW00029825  ...        1   \n",
       "3      Tennessee    Memphis              38103    AW00029825  ...        1   \n",
       "4      Tennessee    Memphis              38103    AW00029825  ...        1   \n",
       "\n",
       "  Unit_Freight_Cost       Cost  shipping   Revenue     Profit profit_per_item  \\\n",
       "0           51.3415  1949.4359   51.3415   3374.99  1425.5541       1425.5541   \n",
       "1           51.3415  5848.3077  154.0245  10124.97  4276.6623       1425.5541   \n",
       "2           51.3415  1949.4359   51.3415   3374.99  1425.5541       1425.5541   \n",
       "3           51.3415  1963.4959   51.3415   3399.99  1436.4941       1436.4941   \n",
       "4           51.3415  1963.4959   51.3415   3399.99  1436.4941       1436.4941   \n",
       "\n",
       "  month_year  year quarter  \n",
       "0    2005-07  2005  2005Q3  \n",
       "1    2005-07  2005  2005Q3  \n",
       "2    2005-07  2005  2005Q3  \n",
       "3    2005-07  2005  2005Q3  \n",
       "4    2005-07  2005  2005Q3  \n",
       "\n",
       "[5 rows x 33 columns]"
      ]
     },
     "execution_count": 15,
     "metadata": {},
     "output_type": "execute_result"
    }
   ],
   "source": [
    "df.head()"
   ]
  },
  {
   "cell_type": "markdown",
   "metadata": {},
   "source": [
    "### Calculate Number of Orders that had a greater unit freight cost than unit price"
   ]
  },
  {
   "cell_type": "code",
   "execution_count": 16,
   "metadata": {},
   "outputs": [],
   "source": [
    "price_shipping = df[['Product_Category','Product_Name','UnitPrice','Unit_Freight_Cost','year']]"
   ]
  },
  {
   "cell_type": "code",
   "execution_count": 17,
   "metadata": {},
   "outputs": [
    {
     "data": {
      "text/html": [
       "<div>\n",
       "<style scoped>\n",
       "    .dataframe tbody tr th:only-of-type {\n",
       "        vertical-align: middle;\n",
       "    }\n",
       "\n",
       "    .dataframe tbody tr th {\n",
       "        vertical-align: top;\n",
       "    }\n",
       "\n",
       "    .dataframe thead th {\n",
       "        text-align: right;\n",
       "    }\n",
       "</style>\n",
       "<table border=\"1\" class=\"dataframe\">\n",
       "  <thead>\n",
       "    <tr style=\"text-align: right;\">\n",
       "      <th></th>\n",
       "      <th>Product_Category</th>\n",
       "      <th>Product_Name</th>\n",
       "      <th>UnitPrice</th>\n",
       "      <th>Unit_Freight_Cost</th>\n",
       "      <th>year</th>\n",
       "    </tr>\n",
       "  </thead>\n",
       "  <tbody>\n",
       "    <tr>\n",
       "      <th>0</th>\n",
       "      <td>Bikes</td>\n",
       "      <td>Mountain-100 Black, 42</td>\n",
       "      <td>3374.99</td>\n",
       "      <td>51.3415</td>\n",
       "      <td>2005</td>\n",
       "    </tr>\n",
       "    <tr>\n",
       "      <th>1</th>\n",
       "      <td>Bikes</td>\n",
       "      <td>Mountain-100 Black, 44</td>\n",
       "      <td>3374.99</td>\n",
       "      <td>51.3415</td>\n",
       "      <td>2005</td>\n",
       "    </tr>\n",
       "    <tr>\n",
       "      <th>2</th>\n",
       "      <td>Bikes</td>\n",
       "      <td>Mountain-100 Black, 48</td>\n",
       "      <td>3374.99</td>\n",
       "      <td>51.3415</td>\n",
       "      <td>2005</td>\n",
       "    </tr>\n",
       "    <tr>\n",
       "      <th>3</th>\n",
       "      <td>Bikes</td>\n",
       "      <td>Mountain-100 Silver, 38</td>\n",
       "      <td>3399.99</td>\n",
       "      <td>51.3415</td>\n",
       "      <td>2005</td>\n",
       "    </tr>\n",
       "    <tr>\n",
       "      <th>4</th>\n",
       "      <td>Bikes</td>\n",
       "      <td>Mountain-100 Silver, 42</td>\n",
       "      <td>3399.99</td>\n",
       "      <td>51.3415</td>\n",
       "      <td>2005</td>\n",
       "    </tr>\n",
       "  </tbody>\n",
       "</table>\n",
       "</div>"
      ],
      "text/plain": [
       "  Product_Category             Product_Name  UnitPrice  Unit_Freight_Cost  \\\n",
       "0            Bikes   Mountain-100 Black, 42    3374.99            51.3415   \n",
       "1            Bikes   Mountain-100 Black, 44    3374.99            51.3415   \n",
       "2            Bikes   Mountain-100 Black, 48    3374.99            51.3415   \n",
       "3            Bikes  Mountain-100 Silver, 38    3399.99            51.3415   \n",
       "4            Bikes  Mountain-100 Silver, 42    3399.99            51.3415   \n",
       "\n",
       "   year  \n",
       "0  2005  \n",
       "1  2005  \n",
       "2  2005  \n",
       "3  2005  \n",
       "4  2005  "
      ]
     },
     "execution_count": 17,
     "metadata": {},
     "output_type": "execute_result"
    }
   ],
   "source": [
    "price_shipping.head()"
   ]
  },
  {
   "cell_type": "code",
   "execution_count": 18,
   "metadata": {},
   "outputs": [
    {
     "name": "stderr",
     "output_type": "stream",
     "text": [
      "C:\\Users\\JAY\\anaconda3\\lib\\site-packages\\ipykernel_launcher.py:1: SettingWithCopyWarning: \n",
      "A value is trying to be set on a copy of a slice from a DataFrame.\n",
      "Try using .loc[row_indexer,col_indexer] = value instead\n",
      "\n",
      "See the caveats in the documentation: https://pandas.pydata.org/pandas-docs/stable/user_guide/indexing.html#returning-a-view-versus-a-copy\n",
      "  \"\"\"Entry point for launching an IPython kernel.\n"
     ]
    }
   ],
   "source": [
    "price_shipping['Revenue'] = price_shipping['UnitPrice'] - price_shipping['Unit_Freight_Cost']"
   ]
  },
  {
   "cell_type": "code",
   "execution_count": 19,
   "metadata": {},
   "outputs": [
    {
     "data": {
      "text/html": [
       "<div>\n",
       "<style scoped>\n",
       "    .dataframe tbody tr th:only-of-type {\n",
       "        vertical-align: middle;\n",
       "    }\n",
       "\n",
       "    .dataframe tbody tr th {\n",
       "        vertical-align: top;\n",
       "    }\n",
       "\n",
       "    .dataframe thead th {\n",
       "        text-align: right;\n",
       "    }\n",
       "</style>\n",
       "<table border=\"1\" class=\"dataframe\">\n",
       "  <thead>\n",
       "    <tr style=\"text-align: right;\">\n",
       "      <th></th>\n",
       "      <th>Product_Category</th>\n",
       "      <th>Product_Name</th>\n",
       "      <th>UnitPrice</th>\n",
       "      <th>Unit_Freight_Cost</th>\n",
       "      <th>year</th>\n",
       "      <th>Revenue</th>\n",
       "    </tr>\n",
       "  </thead>\n",
       "  <tbody>\n",
       "    <tr>\n",
       "      <th>0</th>\n",
       "      <td>Bikes</td>\n",
       "      <td>Mountain-100 Black, 42</td>\n",
       "      <td>3374.99</td>\n",
       "      <td>51.3415</td>\n",
       "      <td>2005</td>\n",
       "      <td>3323.6485</td>\n",
       "    </tr>\n",
       "    <tr>\n",
       "      <th>1</th>\n",
       "      <td>Bikes</td>\n",
       "      <td>Mountain-100 Black, 44</td>\n",
       "      <td>3374.99</td>\n",
       "      <td>51.3415</td>\n",
       "      <td>2005</td>\n",
       "      <td>3323.6485</td>\n",
       "    </tr>\n",
       "    <tr>\n",
       "      <th>2</th>\n",
       "      <td>Bikes</td>\n",
       "      <td>Mountain-100 Black, 48</td>\n",
       "      <td>3374.99</td>\n",
       "      <td>51.3415</td>\n",
       "      <td>2005</td>\n",
       "      <td>3323.6485</td>\n",
       "    </tr>\n",
       "    <tr>\n",
       "      <th>3</th>\n",
       "      <td>Bikes</td>\n",
       "      <td>Mountain-100 Silver, 38</td>\n",
       "      <td>3399.99</td>\n",
       "      <td>51.3415</td>\n",
       "      <td>2005</td>\n",
       "      <td>3348.6485</td>\n",
       "    </tr>\n",
       "    <tr>\n",
       "      <th>4</th>\n",
       "      <td>Bikes</td>\n",
       "      <td>Mountain-100 Silver, 42</td>\n",
       "      <td>3399.99</td>\n",
       "      <td>51.3415</td>\n",
       "      <td>2005</td>\n",
       "      <td>3348.6485</td>\n",
       "    </tr>\n",
       "  </tbody>\n",
       "</table>\n",
       "</div>"
      ],
      "text/plain": [
       "  Product_Category             Product_Name  UnitPrice  Unit_Freight_Cost  \\\n",
       "0            Bikes   Mountain-100 Black, 42    3374.99            51.3415   \n",
       "1            Bikes   Mountain-100 Black, 44    3374.99            51.3415   \n",
       "2            Bikes   Mountain-100 Black, 48    3374.99            51.3415   \n",
       "3            Bikes  Mountain-100 Silver, 38    3399.99            51.3415   \n",
       "4            Bikes  Mountain-100 Silver, 42    3399.99            51.3415   \n",
       "\n",
       "   year    Revenue  \n",
       "0  2005  3323.6485  \n",
       "1  2005  3323.6485  \n",
       "2  2005  3323.6485  \n",
       "3  2005  3348.6485  \n",
       "4  2005  3348.6485  "
      ]
     },
     "execution_count": 19,
     "metadata": {},
     "output_type": "execute_result"
    }
   ],
   "source": [
    "price_shipping.head()"
   ]
  },
  {
   "cell_type": "code",
   "execution_count": 20,
   "metadata": {},
   "outputs": [
    {
     "name": "stderr",
     "output_type": "stream",
     "text": [
      "C:\\Users\\JAY\\anaconda3\\lib\\site-packages\\ipykernel_launcher.py:1: SettingWithCopyWarning: \n",
      "A value is trying to be set on a copy of a slice from a DataFrame.\n",
      "Try using .loc[row_indexer,col_indexer] = value instead\n",
      "\n",
      "See the caveats in the documentation: https://pandas.pydata.org/pandas-docs/stable/user_guide/indexing.html#returning-a-view-versus-a-copy\n",
      "  \"\"\"Entry point for launching an IPython kernel.\n"
     ]
    }
   ],
   "source": [
    "price_shipping['negative']= np.where(price_shipping['Revenue'] <0, 1, 0)"
   ]
  },
  {
   "cell_type": "code",
   "execution_count": 21,
   "metadata": {},
   "outputs": [
    {
     "data": {
      "text/plain": [
       "11.813580364817113"
      ]
     },
     "execution_count": 21,
     "metadata": {},
     "output_type": "execute_result"
    }
   ],
   "source": [
    "(price_shipping['negative'].sum()/len(price_shipping))*100"
   ]
  },
  {
   "cell_type": "markdown",
   "metadata": {},
   "source": [
    "Make The Graphs"
   ]
  },
  {
   "cell_type": "code",
   "execution_count": 22,
   "metadata": {},
   "outputs": [],
   "source": [
    "df['quarter'] = df['quarter'].astype(str)"
   ]
  },
  {
   "cell_type": "code",
   "execution_count": 23,
   "metadata": {},
   "outputs": [],
   "source": [
    "overview = df.groupby(['quarter'], as_index=False).agg({\"Revenue\": \"sum\",\"Cost\":\"sum\", \"Profit\":\"sum\", \"shipping\":\"sum\",\"OrderQty\":\"sum\"})"
   ]
  },
  {
   "cell_type": "code",
   "execution_count": 24,
   "metadata": {},
   "outputs": [],
   "source": [
    "product = df.groupby(['Product_Name','Product_Category'], as_index=False).agg({\"profit_per_item\": \"mean\"})"
   ]
  },
  {
   "cell_type": "code",
   "execution_count": 25,
   "metadata": {},
   "outputs": [],
   "source": [
    "categories = df.groupby(['Product_Category'], as_index=False).agg({\"profit_per_item\": \"mean\"})"
   ]
  },
  {
   "cell_type": "code",
   "execution_count": 26,
   "metadata": {},
   "outputs": [
    {
     "data": {
      "text/html": [
       "<div>\n",
       "<style scoped>\n",
       "    .dataframe tbody tr th:only-of-type {\n",
       "        vertical-align: middle;\n",
       "    }\n",
       "\n",
       "    .dataframe tbody tr th {\n",
       "        vertical-align: top;\n",
       "    }\n",
       "\n",
       "    .dataframe thead th {\n",
       "        text-align: right;\n",
       "    }\n",
       "</style>\n",
       "<table border=\"1\" class=\"dataframe\">\n",
       "  <thead>\n",
       "    <tr style=\"text-align: right;\">\n",
       "      <th></th>\n",
       "      <th>quarter</th>\n",
       "      <th>Revenue</th>\n",
       "      <th>Cost</th>\n",
       "      <th>Profit</th>\n",
       "      <th>shipping</th>\n",
       "      <th>OrderQty</th>\n",
       "    </tr>\n",
       "  </thead>\n",
       "  <tbody>\n",
       "    <tr>\n",
       "      <th>0</th>\n",
       "      <td>2005Q3</td>\n",
       "      <td>4.350197e+06</td>\n",
       "      <td>2.729993e+06</td>\n",
       "      <td>1.620204e+06</td>\n",
       "      <td>221650.4139</td>\n",
       "      <td>3396</td>\n",
       "    </tr>\n",
       "    <tr>\n",
       "      <th>1</th>\n",
       "      <td>2005Q4</td>\n",
       "      <td>6.803143e+06</td>\n",
       "      <td>4.328230e+06</td>\n",
       "      <td>2.474913e+06</td>\n",
       "      <td>378136.4767</td>\n",
       "      <td>5035</td>\n",
       "    </tr>\n",
       "    <tr>\n",
       "      <th>2</th>\n",
       "      <td>2006Q1</td>\n",
       "      <td>5.592067e+06</td>\n",
       "      <td>3.535898e+06</td>\n",
       "      <td>2.056169e+06</td>\n",
       "      <td>280762.1310</td>\n",
       "      <td>3611</td>\n",
       "    </tr>\n",
       "    <tr>\n",
       "      <th>3</th>\n",
       "      <td>2006Q2</td>\n",
       "      <td>6.207956e+06</td>\n",
       "      <td>4.182490e+06</td>\n",
       "      <td>2.025466e+06</td>\n",
       "      <td>330380.3697</td>\n",
       "      <td>5017</td>\n",
       "    </tr>\n",
       "    <tr>\n",
       "      <th>4</th>\n",
       "      <td>2006Q3</td>\n",
       "      <td>1.163037e+07</td>\n",
       "      <td>7.650756e+06</td>\n",
       "      <td>3.979615e+06</td>\n",
       "      <td>846044.7814</td>\n",
       "      <td>19665</td>\n",
       "    </tr>\n",
       "    <tr>\n",
       "      <th>5</th>\n",
       "      <td>2006Q4</td>\n",
       "      <td>9.321496e+06</td>\n",
       "      <td>6.037810e+06</td>\n",
       "      <td>3.283686e+06</td>\n",
       "      <td>598059.6553</td>\n",
       "      <td>14333</td>\n",
       "    </tr>\n",
       "    <tr>\n",
       "      <th>6</th>\n",
       "      <td>2007Q1</td>\n",
       "      <td>7.036498e+06</td>\n",
       "      <td>4.557571e+06</td>\n",
       "      <td>2.478926e+06</td>\n",
       "      <td>422279.2000</td>\n",
       "      <td>9058</td>\n",
       "    </tr>\n",
       "    <tr>\n",
       "      <th>7</th>\n",
       "      <td>2007Q2</td>\n",
       "      <td>9.007347e+06</td>\n",
       "      <td>5.839996e+06</td>\n",
       "      <td>3.167350e+06</td>\n",
       "      <td>578876.1136</td>\n",
       "      <td>14136</td>\n",
       "    </tr>\n",
       "    <tr>\n",
       "      <th>8</th>\n",
       "      <td>2007Q3</td>\n",
       "      <td>1.245244e+07</td>\n",
       "      <td>8.549437e+06</td>\n",
       "      <td>3.903005e+06</td>\n",
       "      <td>988087.6210</td>\n",
       "      <td>24734</td>\n",
       "    </tr>\n",
       "    <tr>\n",
       "      <th>9</th>\n",
       "      <td>2007Q4</td>\n",
       "      <td>9.961928e+06</td>\n",
       "      <td>6.595762e+06</td>\n",
       "      <td>3.366166e+06</td>\n",
       "      <td>685704.2090</td>\n",
       "      <td>17772</td>\n",
       "    </tr>\n",
       "    <tr>\n",
       "      <th>10</th>\n",
       "      <td>2008Q1</td>\n",
       "      <td>7.922132e+06</td>\n",
       "      <td>5.199719e+06</td>\n",
       "      <td>2.722413e+06</td>\n",
       "      <td>475648.0684</td>\n",
       "      <td>11193</td>\n",
       "    </tr>\n",
       "    <tr>\n",
       "      <th>11</th>\n",
       "      <td>2008Q2</td>\n",
       "      <td>9.845054e+06</td>\n",
       "      <td>8.020211e+06</td>\n",
       "      <td>1.824843e+06</td>\n",
       "      <td>669633.6827</td>\n",
       "      <td>17075</td>\n",
       "    </tr>\n",
       "  </tbody>\n",
       "</table>\n",
       "</div>"
      ],
      "text/plain": [
       "   quarter       Revenue          Cost        Profit     shipping  OrderQty\n",
       "0   2005Q3  4.350197e+06  2.729993e+06  1.620204e+06  221650.4139      3396\n",
       "1   2005Q4  6.803143e+06  4.328230e+06  2.474913e+06  378136.4767      5035\n",
       "2   2006Q1  5.592067e+06  3.535898e+06  2.056169e+06  280762.1310      3611\n",
       "3   2006Q2  6.207956e+06  4.182490e+06  2.025466e+06  330380.3697      5017\n",
       "4   2006Q3  1.163037e+07  7.650756e+06  3.979615e+06  846044.7814     19665\n",
       "5   2006Q4  9.321496e+06  6.037810e+06  3.283686e+06  598059.6553     14333\n",
       "6   2007Q1  7.036498e+06  4.557571e+06  2.478926e+06  422279.2000      9058\n",
       "7   2007Q2  9.007347e+06  5.839996e+06  3.167350e+06  578876.1136     14136\n",
       "8   2007Q3  1.245244e+07  8.549437e+06  3.903005e+06  988087.6210     24734\n",
       "9   2007Q4  9.961928e+06  6.595762e+06  3.366166e+06  685704.2090     17772\n",
       "10  2008Q1  7.922132e+06  5.199719e+06  2.722413e+06  475648.0684     11193\n",
       "11  2008Q2  9.845054e+06  8.020211e+06  1.824843e+06  669633.6827     17075"
      ]
     },
     "execution_count": 26,
     "metadata": {},
     "output_type": "execute_result"
    }
   ],
   "source": [
    "overview"
   ]
  },
  {
   "cell_type": "code",
   "execution_count": 27,
   "metadata": {},
   "outputs": [
    {
     "data": {
      "text/plain": [
       "20.790888511601587"
      ]
     },
     "execution_count": 27,
     "metadata": {},
     "output_type": "execute_result"
    }
   ],
   "source": [
    "((overview.iloc[11,5] - overview.iloc[7,5])/ overview.iloc[7,5])*100 #Calculate the percentage change of orders"
   ]
  },
  {
   "cell_type": "code",
   "execution_count": 28,
   "metadata": {},
   "outputs": [
    {
     "data": {
      "text/plain": [
       "-42.38582547005317"
      ]
     },
     "execution_count": 28,
     "metadata": {},
     "output_type": "execute_result"
    }
   ],
   "source": [
    "((overview.iloc[11,3] - overview.iloc[7,3])/ overview.iloc[7,3])*100 #Calculate the percentage change of profit"
   ]
  },
  {
   "cell_type": "code",
   "execution_count": 29,
   "metadata": {},
   "outputs": [
    {
     "data": {
      "text/plain": [
       "15.678237012680013"
      ]
     },
     "execution_count": 29,
     "metadata": {},
     "output_type": "execute_result"
    }
   ],
   "source": [
    "((overview.iloc[11,4] - overview.iloc[7,4])/ overview.iloc[7,4])*100 #Calculate the percentage change of shipping costs"
   ]
  },
  {
   "cell_type": "code",
   "execution_count": 241,
   "metadata": {},
   "outputs": [
    {
     "data": {
      "text/html": [
       "<div>\n",
       "<style scoped>\n",
       "    .dataframe tbody tr th:only-of-type {\n",
       "        vertical-align: middle;\n",
       "    }\n",
       "\n",
       "    .dataframe tbody tr th {\n",
       "        vertical-align: top;\n",
       "    }\n",
       "\n",
       "    .dataframe thead th {\n",
       "        text-align: right;\n",
       "    }\n",
       "</style>\n",
       "<table border=\"1\" class=\"dataframe\">\n",
       "  <thead>\n",
       "    <tr style=\"text-align: right;\">\n",
       "      <th></th>\n",
       "      <th>Product_Category</th>\n",
       "      <th>profit_per_item</th>\n",
       "    </tr>\n",
       "  </thead>\n",
       "  <tbody>\n",
       "    <tr>\n",
       "      <th>0</th>\n",
       "      <td>Accessories</td>\n",
       "      <td>-13.754425</td>\n",
       "    </tr>\n",
       "    <tr>\n",
       "      <th>1</th>\n",
       "      <td>Bikes</td>\n",
       "      <td>541.589833</td>\n",
       "    </tr>\n",
       "    <tr>\n",
       "      <th>2</th>\n",
       "      <td>Clothing</td>\n",
       "      <td>-14.663571</td>\n",
       "    </tr>\n",
       "    <tr>\n",
       "      <th>3</th>\n",
       "      <td>Components</td>\n",
       "      <td>148.225408</td>\n",
       "    </tr>\n",
       "  </tbody>\n",
       "</table>\n",
       "</div>"
      ],
      "text/plain": [
       "  Product_Category  profit_per_item\n",
       "0      Accessories       -13.754425\n",
       "1            Bikes       541.589833\n",
       "2         Clothing       -14.663571\n",
       "3       Components       148.225408"
      ]
     },
     "execution_count": 241,
     "metadata": {},
     "output_type": "execute_result"
    }
   ],
   "source": [
    "categories.head()"
   ]
  },
  {
   "cell_type": "code",
   "execution_count": 31,
   "metadata": {},
   "outputs": [
    {
     "data": {
      "text/plain": [
       "Text(0, 0.5, 'Sales')"
      ]
     },
     "execution_count": 31,
     "metadata": {},
     "output_type": "execute_result"
    },
    {
     "data": {
      "image/png": "[encoded data removed]",
      "text/plain": [
       "<Figure size 1440x720 with 1 Axes>"
      ]
     },
     "metadata": {
      "needs_background": "light"
     },
     "output_type": "display_data"
    }
   ],
   "source": [
    "plt.figure(figsize=(20,10))\n",
    "plt.xticks(rotation=45)\n",
    "ax = sns.lineplot(x=\"quarter\", y=\"OrderQty\" ,palette=\"Purples\" ,markers=True,marker='o', dashes=False,data=overview,  markersize=12, linewidth=4)\n",
    "sns.set_style(\"white\")\n",
    "sns.despine()\n",
    "plt.xlabel('Date')\n",
    "plt.ylabel('Sales')"
   ]
  },
  {
   "cell_type": "code",
   "execution_count": 32,
   "metadata": {},
   "outputs": [
    {
     "data": {
      "text/plain": [
       "Text(0, 0.5, 'Profit')"
      ]
     },
     "execution_count": 32,
     "metadata": {},
     "output_type": "execute_result"
    },
    {
     "data": {
      "image/png": "[encoded data removed]",
      "text/plain": [
       "<Figure size 1440x720 with 1 Axes>"
      ]
     },
     "metadata": {},
     "output_type": "display_data"
    }
   ],
   "source": [
    "plt.figure(figsize=(20,10))\n",
    "plt.xticks(rotation=45)\n",
    "ax = sns.lineplot(x=\"quarter\", y=\"Profit\",palette=\"Purples\" ,markers=True,marker='o', dashes=False,data=overview,  markersize=12, linewidth=4)\n",
    "sns.set_style(\"white\")\n",
    "sns.despine()\n",
    "plt.xlabel('Date')\n",
    "plt.ylabel('Profit')"
   ]
  },
  {
   "cell_type": "code",
   "execution_count": 33,
   "metadata": {},
   "outputs": [
    {
     "data": {
      "text/plain": [
       "Text(0, 0.5, 'Shipping Cost')"
      ]
     },
     "execution_count": 33,
     "metadata": {},
     "output_type": "execute_result"
    },
    {
     "data": {
      "image/png": "[encoded data removed]",
      "text/plain": [
       "<Figure size 1440x720 with 1 Axes>"
      ]
     },
     "metadata": {},
     "output_type": "display_data"
    }
   ],
   "source": [
    "plt.figure(figsize=(20,10))\n",
    "plt.xticks(rotation=45)\n",
    "ax = sns.barplot(x=\"quarter\", y=\"shipping\",palette=\"Purples\" , data=overview)\n",
    "sns.set_style(\"white\")\n",
    "sns.despine()\n",
    "plt.xlabel('Date')\n",
    "plt.ylabel('Shipping Cost')"
   ]
  },
  {
   "cell_type": "code",
   "execution_count": 34,
   "metadata": {},
   "outputs": [
    {
     "data": {
      "image/png": "[encoded data removed]",
      "text/plain": [
       "<Figure size 1440x720 with 1 Axes>"
      ]
     },
     "metadata": {},
     "output_type": "display_data"
    }
   ],
   "source": [
    "plt.figure(figsize=(20,10))\n",
    "sns.set(style=\"white\", context=\"talk\")\n",
    "chart = sns.barplot(x=\"Product_Category\", y=\"profit_per_item\", data=categories, palette=\"Purples\")\n",
    "chart.axhline(0, color=\"k\", clip_on=False)\n",
    "chart.set_ylabel(\"Profit Per Item\")\n",
    "chart.set_xlabel(\"Product Category\")\n",
    "sns.despine(bottom=True)"
   ]
  },
  {
   "cell_type": "code",
   "execution_count": null,
   "metadata": {},
   "outputs": [],
   "source": []
  }
 ],
 "metadata": {
  "kernelspec": {
   "display_name": "Python 3",
   "language": "python",
   "name": "python3"
  },
  "language_info": {
   "codemirror_mode": {
    "name": "ipython",
    "version": 3
   },
   "file_extension": ".py",
   "mimetype": "text/x-python",
   "name": "python",
   "nbconvert_exporter": "python",
   "pygments_lexer": "ipython3",
   "version": "3.7.6"
  }
 },
 "nbformat": 4,
 "nbformat_minor": 2
}
